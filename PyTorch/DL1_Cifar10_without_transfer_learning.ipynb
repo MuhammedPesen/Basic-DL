{
 "cells": [
  {
   "cell_type": "code",
   "execution_count": 43,
   "id": "521827a2-ecb9-4892-a60c-723d290edae2",
   "metadata": {},
   "outputs": [],
   "source": [
    "import torch\n",
    "from torchvision import transforms, datasets\n",
    "import matplotlib.pyplot as plt\n",
    "import numpy as np\n",
    "import cv2\n",
    "\n",
    "device = torch.device('cuda:0' if torch.cuda.is_available() else 'cpu')\n"
   ]
  },
  {
   "cell_type": "code",
   "execution_count": 44,
   "id": "ab7352e8-b7db-4d8a-a1aa-e8de4e0f1eba",
   "metadata": {},
   "outputs": [
    {
     "name": "stdout",
     "output_type": "stream",
     "text": [
      "Files already downloaded and verified\n",
      "Files already downloaded and verified\n"
     ]
    }
   ],
   "source": [
    "train_data = datasets.CIFAR10(root=\"data\",\n",
    "                              train=True,\n",
    "                              download=True,\n",
    "                              transform=transforms.ToTensor())\n",
    "test_data = datasets.CIFAR10(root=\"data\",\n",
    "                             train=False,\n",
    "                             download=True,\n",
    "                             transform=transforms.ToTensor())\n",
    "\n",
    "train = torch.utils.data.DataLoader(train_data, batch_size=32, shuffle=False)\n",
    "test = torch.utils.data.DataLoader(test_data, batch_size=32, shuffle=False)\n"
   ]
  },
  {
   "cell_type": "code",
   "execution_count": 45,
   "id": "c8b154fb-3e5e-473a-8226-3e1e99de8d61",
   "metadata": {},
   "outputs": [
    {
     "name": "stdout",
     "output_type": "stream",
     "text": [
      "{0: 5000, 1: 5000, 2: 5000, 3: 5000, 4: 5000, 5: 5000, 6: 5000, 7: 5000, 8: 5000, 9: 5000}\n"
     ]
    }
   ],
   "source": [
    "class_dict = {0: 0, 1: 0, 2: 0, 3: 0, 4: 0, 5: 0, 6: 0, 7: 0, 8: 0, 9: 0}\n",
    "\n",
    "for data in train:\n",
    "    Xs, ys = data\n",
    "    for y in ys:\n",
    "        class_dict[int(y)] += 1\n",
    "print(class_dict)\n"
   ]
  },
  {
   "cell_type": "code",
   "execution_count": 46,
   "id": "fbefdfd9",
   "metadata": {},
   "outputs": [
    {
     "name": "stdout",
     "output_type": "stream",
     "text": [
      "torch.Size([3, 32, 32])\n"
     ]
    }
   ],
   "source": [
    "for data in train:\n",
    "    Xs, ys = data\n",
    "    print(Xs[0].shape)\n",
    "    break\n"
   ]
  },
  {
   "cell_type": "code",
   "execution_count": 47,
   "id": "cea79507-d255-48d4-a795-cb380c9207e2",
   "metadata": {},
   "outputs": [
    {
     "name": "stdout",
     "output_type": "stream",
     "text": [
      "1600\n",
      "Net(\n",
      "  (conv1): Conv2d(3, 32, kernel_size=(5, 5), stride=(1, 1), bias=False)\n",
      "  (batch_norm1): BatchNorm2d(32, eps=1e-05, momentum=0.1, affine=True, track_running_stats=True)\n",
      "  (conv2): Conv2d(32, 64, kernel_size=(5, 5), stride=(1, 1))\n",
      "  (batch_norm2): BatchNorm2d(64, eps=1e-05, momentum=0.1, affine=True, track_running_stats=True)\n",
      "  (dropout1): Dropout2d(p=0.25, inplace=False)\n",
      "  (fc1): Linear(in_features=1600, out_features=128, bias=True)\n",
      "  (fc2): Linear(in_features=128, out_features=64, bias=True)\n",
      "  (dropout2): Dropout(p=0.5, inplace=False)\n",
      "  (fc3): Linear(in_features=64, out_features=10, bias=True)\n",
      ")\n"
     ]
    }
   ],
   "source": [
    "import torch.nn.functional as F\n",
    "\n",
    "\n",
    "class Net(torch.nn.Module):\n",
    "    def __init__(self) -> None:\n",
    "        super().__init__()\n",
    "        self.conv1 = torch.nn.Conv2d(3, 32, 5, bias=False)\n",
    "        self.batch_norm1 = torch.nn.BatchNorm2d(32)\n",
    "        self.conv2 = torch.nn.Conv2d(32, 64, 5)\n",
    "        self.batch_norm2 = torch.nn.BatchNorm2d(64)\n",
    "        self.dropout1 = torch.nn.Dropout2d(0.25)\n",
    "\n",
    "        x = torch.rand(3, 32, 32).view(-1, 3, 32, 32)\n",
    "        self._to_linear = None\n",
    "        self.convs(x)\n",
    "\n",
    "        self.fc1 = torch.nn.Linear(self._to_linear, 128)\n",
    "        self.fc2 = torch.nn.Linear(128, 64)\n",
    "        self.dropout2 = torch.nn.Dropout(0.5)\n",
    "        self.fc3 = torch.nn.Linear(64, 10)\n",
    "\n",
    "    def convs(self, x):\n",
    "        x = F.relu(self.batch_norm1(self.conv1(x)))\n",
    "        x = F.max_pool2d(x, (2, 2))\n",
    "        x = self.dropout1(x)\n",
    "        x = F.relu(self.batch_norm2(self.conv2(x)))\n",
    "        x = F.max_pool2d(x, (2, 2))\n",
    "        self._to_linear = x[0].shape[0]*x[0].shape[1] * \\\n",
    "            x[0].shape[2]  # Channels * width * height\n",
    "        print(self._to_linear)\n",
    "\n",
    "    def forward(self, x):\n",
    "        x = F.relu(self.batch_norm1(self.conv1(x)))\n",
    "        x = F.max_pool2d(x, (2, 2))\n",
    "        x = self.dropout1(x)\n",
    "        x = F.relu(self.batch_norm2(self.conv2(x)))\n",
    "        x = F.max_pool2d(x, (2, 2))\n",
    "        x = x.view(-1, self._to_linear)\n",
    "        x = F.relu(self.fc1(x))\n",
    "        x = F.relu(self.fc2(x))\n",
    "        x = self.dropout2(x)\n",
    "        x = F.log_softmax(self.fc3(x), dim=1)\n",
    "        return x\n",
    "\n",
    "\n",
    "model = Net().to(device)\n",
    "print(model)\n"
   ]
  },
  {
   "cell_type": "code",
   "execution_count": 48,
   "id": "fd1c2519",
   "metadata": {},
   "outputs": [],
   "source": [
    "class Config():\n",
    "    def __init__(self) -> None:\n",
    "        self.epochs = 30\n",
    "        self.Batchsize = 32\n",
    "\n",
    "\n",
    "config = Config()\n"
   ]
  },
  {
   "cell_type": "code",
   "execution_count": 49,
   "id": "46100e4d",
   "metadata": {},
   "outputs": [
    {
     "name": "stdout",
     "output_type": "stream",
     "text": [
      "----------------------------------------------------------------\n",
      "        Layer (type)               Output Shape         Param #\n",
      "================================================================\n",
      "            Conv2d-1           [-1, 32, 28, 28]           2,400\n",
      "       BatchNorm2d-2           [-1, 32, 28, 28]              64\n",
      "         Dropout2d-3           [-1, 32, 14, 14]               0\n",
      "            Conv2d-4           [-1, 64, 10, 10]          51,264\n",
      "       BatchNorm2d-5           [-1, 64, 10, 10]             128\n",
      "            Linear-6                  [-1, 128]         204,928\n",
      "            Linear-7                   [-1, 64]           8,256\n",
      "           Dropout-8                   [-1, 64]               0\n",
      "            Linear-9                   [-1, 10]             650\n",
      "================================================================\n",
      "Total params: 267,690\n",
      "Trainable params: 267,690\n",
      "Non-trainable params: 0\n",
      "----------------------------------------------------------------\n",
      "Input size (MB): 0.01\n",
      "Forward/backward pass size (MB): 0.53\n",
      "Params size (MB): 1.02\n",
      "Estimated Total Size (MB): 1.56\n",
      "----------------------------------------------------------------\n"
     ]
    }
   ],
   "source": [
    "from torchsummary import summary\n",
    "summary(model, (3, 32, 32))\n"
   ]
  },
  {
   "cell_type": "code",
   "execution_count": 50,
   "id": "dee93b93",
   "metadata": {},
   "outputs": [
    {
     "name": "stdout",
     "output_type": "stream",
     "text": [
      "156 1407\n"
     ]
    }
   ],
   "source": [
    "valsize = int(len(train)*0.1)  # Reserve %10 for validation\n",
    "trainsize = len(train) - valsize  # Reserve %90 for train\n",
    "print(valsize, trainsize)\n",
    "train_set, val_set = torch.utils.data.random_split(train, [trainsize, valsize])\n"
   ]
  },
  {
   "cell_type": "code",
   "execution_count": 51,
   "id": "ec70a1a4",
   "metadata": {},
   "outputs": [
    {
     "name": "stdout",
     "output_type": "stream",
     "text": [
      "torch.Size([32, 3, 32, 32]) torch.Size([32])\n"
     ]
    }
   ],
   "source": [
    "for data in train_set.dataset:\n",
    "    Xs, ys = data\n",
    "    print(Xs.shape, ys.shape)\n",
    "    break\n"
   ]
  },
  {
   "cell_type": "code",
   "execution_count": 52,
   "id": "a3c00c49",
   "metadata": {},
   "outputs": [],
   "source": [
    "from tqdm import tqdm\n",
    "\n",
    "optimizer = torch.optim.Adam(model.parameters(), lr=1e-3, weight_decay=1e-5)\n",
    "loss_fn = torch.nn.CrossEntropyLoss()\n"
   ]
  },
  {
   "cell_type": "code",
   "execution_count": 53,
   "id": "15de7846",
   "metadata": {},
   "outputs": [
    {
     "name": "stderr",
     "output_type": "stream",
     "text": [
      "100%|██████████| 1563/1563 [00:18<00:00, 83.67it/s]\n"
     ]
    },
    {
     "name": "stdout",
     "output_type": "stream",
     "text": [
      "Epoch 1: Loss - 1.643088808749169, Validation Loss - 1.3312578284427743\n"
     ]
    },
    {
     "name": "stderr",
     "output_type": "stream",
     "text": [
      "100%|██████████| 1563/1563 [00:18<00:00, 84.38it/s]\n"
     ]
    },
    {
     "name": "stdout",
     "output_type": "stream",
     "text": [
      "Epoch 2: Loss - 1.359170958390239, Validation Loss - 1.0864570816205392\n"
     ]
    },
    {
     "name": "stderr",
     "output_type": "stream",
     "text": [
      "100%|██████████| 1563/1563 [00:18<00:00, 84.70it/s]\n"
     ]
    },
    {
     "name": "stdout",
     "output_type": "stream",
     "text": [
      "Epoch 3: Loss - 1.2232228897354653, Validation Loss - 0.9714954842837743\n"
     ]
    },
    {
     "name": "stderr",
     "output_type": "stream",
     "text": [
      "100%|██████████| 1563/1563 [00:18<00:00, 84.49it/s]\n"
     ]
    },
    {
     "name": "stdout",
     "output_type": "stream",
     "text": [
      "Epoch 4: Loss - 1.1322705913680682, Validation Loss - 0.9763905617264853\n"
     ]
    },
    {
     "name": "stderr",
     "output_type": "stream",
     "text": [
      "100%|██████████| 1563/1563 [00:18<00:00, 85.21it/s]\n"
     ]
    },
    {
     "name": "stdout",
     "output_type": "stream",
     "text": [
      "Epoch 5: Loss - 1.0611574029167417, Validation Loss - 0.8409592303151285\n"
     ]
    },
    {
     "name": "stderr",
     "output_type": "stream",
     "text": [
      "100%|██████████| 1563/1563 [00:19<00:00, 81.90it/s]\n"
     ]
    },
    {
     "name": "stdout",
     "output_type": "stream",
     "text": [
      "Epoch 6: Loss - 0.9976021184115859, Validation Loss - 0.8230194450950135\n"
     ]
    },
    {
     "name": "stderr",
     "output_type": "stream",
     "text": [
      "100%|██████████| 1563/1563 [00:20<00:00, 77.10it/s]\n"
     ]
    },
    {
     "name": "stdout",
     "output_type": "stream",
     "text": [
      "Epoch 7: Loss - 0.9526102795520045, Validation Loss - 0.7704043253941637\n"
     ]
    },
    {
     "name": "stderr",
     "output_type": "stream",
     "text": [
      "100%|██████████| 1563/1563 [00:21<00:00, 71.49it/s]\n"
     ]
    },
    {
     "name": "stdout",
     "output_type": "stream",
     "text": [
      "Epoch 8: Loss - 0.9108101616703541, Validation Loss - 0.7194536358060855\n"
     ]
    },
    {
     "name": "stderr",
     "output_type": "stream",
     "text": [
      "100%|██████████| 1563/1563 [00:21<00:00, 72.44it/s]\n"
     ]
    },
    {
     "name": "stdout",
     "output_type": "stream",
     "text": [
      "Epoch 9: Loss - 0.8713211059494043, Validation Loss - 0.699657365736943\n"
     ]
    },
    {
     "name": "stderr",
     "output_type": "stream",
     "text": [
      "100%|██████████| 1563/1563 [00:20<00:00, 76.12it/s]\n"
     ]
    },
    {
     "name": "stdout",
     "output_type": "stream",
     "text": [
      "Epoch 10: Loss - 0.8393424297858718, Validation Loss - 0.6871143079917551\n"
     ]
    },
    {
     "name": "stderr",
     "output_type": "stream",
     "text": [
      "100%|██████████| 1563/1563 [00:20<00:00, 77.45it/s]\n"
     ]
    },
    {
     "name": "stdout",
     "output_type": "stream",
     "text": [
      "Epoch 11: Loss - 0.8051744624543328, Validation Loss - 0.5888760244034074\n"
     ]
    },
    {
     "name": "stderr",
     "output_type": "stream",
     "text": [
      "100%|██████████| 1563/1563 [00:20<00:00, 77.17it/s]\n"
     ]
    },
    {
     "name": "stdout",
     "output_type": "stream",
     "text": [
      "Epoch 12: Loss - 0.7856841650115169, Validation Loss - 0.5757008603918804\n"
     ]
    },
    {
     "name": "stderr",
     "output_type": "stream",
     "text": [
      "100%|██████████| 1563/1563 [00:20<00:00, 76.03it/s]\n"
     ]
    },
    {
     "name": "stdout",
     "output_type": "stream",
     "text": [
      "Epoch 13: Loss - 0.7545962318615965, Validation Loss - 0.5633139877043241\n"
     ]
    },
    {
     "name": "stderr",
     "output_type": "stream",
     "text": [
      "100%|██████████| 1563/1563 [00:20<00:00, 76.61it/s]\n"
     ]
    },
    {
     "name": "stdout",
     "output_type": "stream",
     "text": [
      "Epoch 14: Loss - 0.7335616480976209, Validation Loss - 0.5524553673071352\n"
     ]
    },
    {
     "name": "stderr",
     "output_type": "stream",
     "text": [
      "100%|██████████| 1563/1563 [00:20<00:00, 77.70it/s]\n"
     ]
    },
    {
     "name": "stdout",
     "output_type": "stream",
     "text": [
      "Epoch 15: Loss - 0.7083610927189151, Validation Loss - 0.5117097737521448\n"
     ]
    },
    {
     "name": "stderr",
     "output_type": "stream",
     "text": [
      "100%|██████████| 1563/1563 [00:19<00:00, 80.62it/s]\n"
     ]
    },
    {
     "name": "stdout",
     "output_type": "stream",
     "text": [
      "Epoch 16: Loss - 0.6937460190236988, Validation Loss - 0.49285687427069236\n"
     ]
    },
    {
     "name": "stderr",
     "output_type": "stream",
     "text": [
      "100%|██████████| 1563/1563 [00:20<00:00, 77.29it/s]\n"
     ]
    },
    {
     "name": "stdout",
     "output_type": "stream",
     "text": [
      "Epoch 17: Loss - 0.6717744039005754, Validation Loss - 0.4553416031564724\n"
     ]
    },
    {
     "name": "stderr",
     "output_type": "stream",
     "text": [
      "100%|██████████| 1563/1563 [00:23<00:00, 67.93it/s]\n"
     ]
    },
    {
     "name": "stdout",
     "output_type": "stream",
     "text": [
      "Epoch 18: Loss - 0.6582369067237229, Validation Loss - 0.47102129078986776\n"
     ]
    },
    {
     "name": "stderr",
     "output_type": "stream",
     "text": [
      "100%|██████████| 1563/1563 [00:20<00:00, 74.77it/s]\n"
     ]
    },
    {
     "name": "stdout",
     "output_type": "stream",
     "text": [
      "Epoch 19: Loss - 0.6369017325794551, Validation Loss - 0.4357632081419401\n"
     ]
    },
    {
     "name": "stderr",
     "output_type": "stream",
     "text": [
      "100%|██████████| 1563/1563 [00:21<00:00, 73.19it/s]\n"
     ]
    },
    {
     "name": "stdout",
     "output_type": "stream",
     "text": [
      "Epoch 20: Loss - 0.6210698680719807, Validation Loss - 0.4284136174622058\n"
     ]
    },
    {
     "name": "stderr",
     "output_type": "stream",
     "text": [
      "100%|██████████| 1563/1563 [00:19<00:00, 79.69it/s]\n"
     ]
    },
    {
     "name": "stdout",
     "output_type": "stream",
     "text": [
      "Epoch 21: Loss - 0.6052624087110973, Validation Loss - 0.4230092900566237\n"
     ]
    },
    {
     "name": "stderr",
     "output_type": "stream",
     "text": [
      "100%|██████████| 1563/1563 [00:20<00:00, 77.47it/s]\n"
     ]
    },
    {
     "name": "stdout",
     "output_type": "stream",
     "text": [
      "Epoch 22: Loss - 0.6003283915787421, Validation Loss - 0.40595201782820245\n"
     ]
    },
    {
     "name": "stderr",
     "output_type": "stream",
     "text": [
      "100%|██████████| 1563/1563 [00:19<00:00, 79.56it/s]\n"
     ]
    },
    {
     "name": "stdout",
     "output_type": "stream",
     "text": [
      "Epoch 23: Loss - 0.5811894066388685, Validation Loss - 0.3836134832712297\n"
     ]
    },
    {
     "name": "stderr",
     "output_type": "stream",
     "text": [
      "100%|██████████| 1563/1563 [00:19<00:00, 80.79it/s]\n"
     ]
    },
    {
     "name": "stdout",
     "output_type": "stream",
     "text": [
      "Epoch 24: Loss - 0.5723679638154905, Validation Loss - 0.38884762750124596\n"
     ]
    },
    {
     "name": "stderr",
     "output_type": "stream",
     "text": [
      "100%|██████████| 1563/1563 [00:19<00:00, 81.87it/s]\n"
     ]
    },
    {
     "name": "stdout",
     "output_type": "stream",
     "text": [
      "Epoch 25: Loss - 0.5599317826659574, Validation Loss - 0.40525372807348836\n"
     ]
    },
    {
     "name": "stderr",
     "output_type": "stream",
     "text": [
      "100%|██████████| 1563/1563 [00:20<00:00, 77.83it/s]\n"
     ]
    },
    {
     "name": "stdout",
     "output_type": "stream",
     "text": [
      "Epoch 26: Loss - 0.5465061936196195, Validation Loss - 0.34677128968563736\n"
     ]
    },
    {
     "name": "stderr",
     "output_type": "stream",
     "text": [
      "100%|██████████| 1563/1563 [00:25<00:00, 60.63it/s]\n"
     ]
    },
    {
     "name": "stdout",
     "output_type": "stream",
     "text": [
      "Epoch 27: Loss - 0.5347172489970141, Validation Loss - 0.3511016465918955\n"
     ]
    },
    {
     "name": "stderr",
     "output_type": "stream",
     "text": [
      "100%|██████████| 1563/1563 [00:23<00:00, 66.88it/s]\n"
     ]
    },
    {
     "name": "stdout",
     "output_type": "stream",
     "text": [
      "Epoch 28: Loss - 0.5268672732392031, Validation Loss - 0.3287193140090084\n"
     ]
    },
    {
     "name": "stderr",
     "output_type": "stream",
     "text": [
      "100%|██████████| 1563/1563 [00:22<00:00, 70.24it/s]\n"
     ]
    },
    {
     "name": "stdout",
     "output_type": "stream",
     "text": [
      "Epoch 29: Loss - 0.5200666627028548, Validation Loss - 0.3052949188128161\n"
     ]
    },
    {
     "name": "stderr",
     "output_type": "stream",
     "text": [
      "100%|██████████| 1563/1563 [00:22<00:00, 68.57it/s]\n"
     ]
    },
    {
     "name": "stdout",
     "output_type": "stream",
     "text": [
      "Epoch 30: Loss - 0.5119584288950998, Validation Loss - 0.32040795813518996\n"
     ]
    },
    {
     "data": {
      "image/png": "[encoded data removed]",
      "text/plain": [
       "<Figure size 1000x1000 with 2 Axes>"
      ]
     },
     "metadata": {},
     "output_type": "display_data"
    }
   ],
   "source": [
    "def plot_loss_acc(train_loss, val_loss, train_acc, val_acc):\n",
    "    fig, axs = plt.subplots(2, 1, figsize=(10, 10))\n",
    "    axs[0].plot(train_loss, label='Training Loss')\n",
    "    axs[0].plot(val_loss, label='Validation Loss')\n",
    "    axs[0].set_title('Loss over Epochs')\n",
    "    axs[0].legend()\n",
    "\n",
    "    axs[1].plot(train_acc, label='Training Accuracy')\n",
    "    axs[1].plot(val_acc, label='Validation Accuracy')\n",
    "    axs[1].set_title('Accuracy over Epochs')\n",
    "    axs[1].legend()\n",
    "\n",
    "    plt.show()\n",
    "\n",
    "\n",
    "def training(model, loss_fn, optimizer, train_set, val_set):\n",
    "    train_losses = []\n",
    "    val_losses = []\n",
    "    train_accs = []\n",
    "    val_accs = []\n",
    "\n",
    "    for epoch in range(config.epochs):\n",
    "        train_loss = 0\n",
    "        train_acc = 0\n",
    "        model.train()\n",
    "        for data in tqdm(train_set.dataset):\n",
    "            Xs, ys = data\n",
    "            Xs = Xs.to(device)\n",
    "            ys = ys.to(device)\n",
    "            model.zero_grad()\n",
    "            outputs = model(Xs)\n",
    "            loss = loss_fn(outputs, ys)\n",
    "            loss.backward()\n",
    "            optimizer.step()\n",
    "            train_loss += loss.item()\n",
    "\n",
    "            # Calculate accuracy\n",
    "            _, predictions = torch.max(outputs, 1)\n",
    "            train_acc += (predictions == ys).sum().item() / ys.shape[0]\n",
    "\n",
    "        train_loss /= len(train_set.dataset)\n",
    "        train_acc /= len(train_set.dataset)\n",
    "        train_losses.append(train_loss)\n",
    "        train_accs.append(train_acc)\n",
    "\n",
    "        model.eval()\n",
    "        val_loss = 0\n",
    "        val_acc = 0\n",
    "        for data in val_set.dataset:\n",
    "            Xs, ys = data\n",
    "            Xs = Xs.to(device)\n",
    "            ys = ys.to(device)\n",
    "            outputs = model(Xs)\n",
    "            loss = loss_fn(outputs, ys)\n",
    "            val_loss += loss.item()\n",
    "\n",
    "            # Calculate accuracy\n",
    "            _, predictions = torch.max(outputs, 1)\n",
    "            val_acc += (predictions == ys).sum().item() / ys.shape[0]\n",
    "\n",
    "        val_loss /= len(val_set.dataset)\n",
    "        val_acc /= len(val_set.dataset)\n",
    "        val_losses.append(val_loss)\n",
    "        val_accs.append(val_acc)\n",
    "\n",
    "        print(\n",
    "            f\"Epoch {epoch+1}: Loss - {train_loss}, Validation Loss - {val_loss}\")\n",
    "\n",
    "    plot_loss_acc(train_losses, val_losses, train_accs, val_accs)\n",
    "\n",
    "\n",
    "training(model, loss_fn, optimizer, train_set, val_set)\n"
   ]
  },
  {
   "attachments": {},
   "cell_type": "markdown",
   "id": "01b2a9c2",
   "metadata": {},
   "source": [
    "Initially, overfitting was observed in the model, leading to poor performance on unseen data. To mitigate this, dropout and L2 regularization were added to the model architecture. However, this resulted in underfitting, indicating that the model is not complex enough to capture the underlying patterns in the data. To improve performance, an additional 10 epochs of training will be performed to allow the model to better fit the data."
   ]
  },
  {
   "cell_type": "code",
   "execution_count": 55,
   "id": "e222b62d",
   "metadata": {},
   "outputs": [
    {
     "name": "stderr",
     "output_type": "stream",
     "text": [
      "100%|██████████| 1563/1563 [00:23<00:00, 67.69it/s]\n"
     ]
    },
    {
     "name": "stdout",
     "output_type": "stream",
     "text": [
      "Epoch 1: Loss - 0.4930866918051693, Validation Loss - 0.30726998918573595\n"
     ]
    },
    {
     "name": "stderr",
     "output_type": "stream",
     "text": [
      "100%|██████████| 1563/1563 [00:24<00:00, 64.90it/s]\n"
     ]
    },
    {
     "name": "stdout",
     "output_type": "stream",
     "text": [
      "Epoch 2: Loss - 0.4836122878920704, Validation Loss - 0.2888281037190825\n"
     ]
    },
    {
     "name": "stderr",
     "output_type": "stream",
     "text": [
      "100%|██████████| 1563/1563 [00:23<00:00, 67.54it/s]\n"
     ]
    },
    {
     "name": "stdout",
     "output_type": "stream",
     "text": [
      "Epoch 3: Loss - 0.47269458274618603, Validation Loss - 0.2733788332917983\n"
     ]
    },
    {
     "name": "stderr",
     "output_type": "stream",
     "text": [
      "100%|██████████| 1563/1563 [00:22<00:00, 70.71it/s]\n"
     ]
    },
    {
     "name": "stdout",
     "output_type": "stream",
     "text": [
      "Epoch 4: Loss - 0.46249951265861955, Validation Loss - 0.2897055060844046\n"
     ]
    },
    {
     "name": "stderr",
     "output_type": "stream",
     "text": [
      "100%|██████████| 1563/1563 [00:19<00:00, 79.86it/s]\n"
     ]
    },
    {
     "name": "stdout",
     "output_type": "stream",
     "text": [
      "Epoch 5: Loss - 0.4521927775568445, Validation Loss - 0.2893633416574389\n"
     ]
    },
    {
     "name": "stderr",
     "output_type": "stream",
     "text": [
      "100%|██████████| 1563/1563 [00:20<00:00, 75.08it/s]\n"
     ]
    },
    {
     "name": "stdout",
     "output_type": "stream",
     "text": [
      "Epoch 6: Loss - 0.4506075918788873, Validation Loss - 0.2567790465433\n"
     ]
    },
    {
     "name": "stderr",
     "output_type": "stream",
     "text": [
      "100%|██████████| 1563/1563 [00:27<00:00, 56.37it/s]\n"
     ]
    },
    {
     "name": "stdout",
     "output_type": "stream",
     "text": [
      "Epoch 7: Loss - 0.43895158233146064, Validation Loss - 0.2586718454494624\n"
     ]
    },
    {
     "name": "stderr",
     "output_type": "stream",
     "text": [
      "100%|██████████| 1563/1563 [00:23<00:00, 67.38it/s]\n"
     ]
    },
    {
     "name": "stdout",
     "output_type": "stream",
     "text": [
      "Epoch 8: Loss - 0.4348345020462974, Validation Loss - 0.25893144247313377\n"
     ]
    },
    {
     "name": "stderr",
     "output_type": "stream",
     "text": [
      "100%|██████████| 1563/1563 [00:23<00:00, 67.39it/s]\n"
     ]
    },
    {
     "name": "stdout",
     "output_type": "stream",
     "text": [
      "Epoch 9: Loss - 0.4203170331711008, Validation Loss - 0.25881867919663015\n"
     ]
    },
    {
     "name": "stderr",
     "output_type": "stream",
     "text": [
      "100%|██████████| 1563/1563 [00:18<00:00, 82.60it/s]\n"
     ]
    },
    {
     "name": "stdout",
     "output_type": "stream",
     "text": [
      "Epoch 10: Loss - 0.4137430601155651, Validation Loss - 0.22916646157191758\n"
     ]
    },
    {
     "data": {
      "image/png": "[encoded data removed]",
      "text/plain": [
       "<Figure size 1000x1000 with 2 Axes>"
      ]
     },
     "metadata": {},
     "output_type": "display_data"
    }
   ],
   "source": [
    "config.epochs = 10\n",
    "training(model, loss_fn, optimizer, train_set, val_set)\n"
   ]
  },
  {
   "cell_type": "code",
   "execution_count": 60,
   "id": "4afb3797",
   "metadata": {},
   "outputs": [
    {
     "name": "stdout",
     "output_type": "stream",
     "text": [
      "Test accuracy:  0.7156\n"
     ]
    }
   ],
   "source": [
    "model.eval()  # set the model to evaluation mode\n",
    "with torch.no_grad():  # set the torch gradient calculation to be off\n",
    "    correct = 0\n",
    "    total = 0\n",
    "    for data in test:\n",
    "        Xs, ys = data\n",
    "        Xs = Xs.to(device)\n",
    "        ys = ys.to(device)\n",
    "        outputs = model(Xs)\n",
    "        _, predicted = torch.max(outputs.data, 1)\n",
    "        total += ys.size(0)\n",
    "        correct += (predicted == ys).sum().item()\n",
    "    test_accuracy = correct/total\n",
    "    print(\"Test accuracy: \", test_accuracy)\n"
   ]
  },
  {
   "cell_type": "code",
   "execution_count": null,
   "id": "8aac6e4a",
   "metadata": {},
   "outputs": [],
   "source": []
  }
 ],
 "metadata": {
  "kernelspec": {
   "display_name": "torch1",
   "language": "python",
   "name": "python3"
  },
  "language_info": {
   "codemirror_mode": {
    "name": "ipython",
    "version": 3
   },
   "file_extension": ".py",
   "mimetype": "text/x-python",
   "name": "python",
   "nbconvert_exporter": "python",
   "pygments_lexer": "ipython3",
   "version": "3.9.16"
  },
  "vscode": {
   "interpreter": {
    "hash": "de36f54833350430ccf9ba2022a29c7ef8d309cb23c8847844442650045c9913"
   }
  }
 },
 "nbformat": 4,
 "nbformat_minor": 5
}
