{
  "nbformat": 4,
  "nbformat_minor": 0,
  "metadata": {
    "colab": {
      "provenance": []
    },
    "kernelspec": {
      "name": "python3",
      "display_name": "Python 3"
    },
    "language_info": {
      "name": "python"
    },
    "accelerator": "GPU",
    "gpuClass": "standard"
  },
  "cells": [
    {
      "cell_type": "code",
      "execution_count": 1,
      "metadata": {
        "id": "xHP01bL6FR7W"
      },
      "outputs": [],
      "source": [
        "from tensorflow import keras\n",
        "import tensorflow as tf\n",
        "import numpy as np\n",
        "import pandas as pd\n",
        "import matplotlib.pyplot as plt"
      ]
    },
    {
      "cell_type": "code",
      "source": [
        "from keras.datasets import mnist\n",
        "\n",
        "(X_train, y_train), (X_test, y_test) = mnist.load_data()\n",
        "assert X_train.shape == (60000, 28, 28)\n",
        "assert X_test.shape == (10000, 28, 28)\n",
        "assert y_train.shape == (60000,)\n",
        "assert y_test.shape == (10000,)"
      ],
      "metadata": {
        "id": "EKmfV22i1Dm8"
      },
      "execution_count": 2,
      "outputs": []
    },
    {
      "cell_type": "code",
      "source": [
        "from keras.utils import to_categorical\n",
        "\n",
        "X_train = X_train.reshape((60000, 28, 28))\n",
        "X_train = X_train.astype('float32') / 255\n",
        "\n",
        "X_train = X_test.reshape((10000, 28, 28))\n",
        "X_test = X_test.astype('float32') / 255\n",
        "\n",
        "y_train = to_categorical(y_train)\n",
        "y_test = to_categorical(y_test)"
      ],
      "metadata": {
        "id": "sNe6QNjp13sX"
      },
      "execution_count": 3,
      "outputs": []
    },
    {
      "cell_type": "code",
      "source": [
        "from keras.layers.serialization import activation\n",
        "from keras import layers,models\n",
        "\n",
        "model = models.Sequential()\n",
        "model.add(layers.Conv2D(filters=32 ,kernel_size=(3,3), input_shape= (28, 28, 1), activation= \"relu\"))\n",
        "model.add(layers.MaxPool2D(pool_size=(2,2)))\n",
        "\n",
        "model.add(layers.Conv2D(64, (3,3), activation=\"relu\"))\n",
        "model.add(layers.MaxPool2D(pool_size=(2,2)))\n",
        "\n",
        "model.add(layers.Conv2D(64, (3,3), activation=\"relu\"))\n",
        "model.add(layers.MaxPool2D(pool_size=(2,2)))\n",
        "\n",
        "model.add(layers.Flatten())\n",
        "model.add(layers.Dense(64, activation='relu'))\n",
        "model.add(layers.Dropout(0.5))\n",
        "model.add(layers.Dense(10, activation='softmax'))\n",
        "\n",
        "model.summary()"
      ],
      "metadata": {
        "colab": {
          "base_uri": "https://localhost:8080/"
        },
        "id": "2MTG6Pgc3YCm",
        "outputId": "95d7c637-accb-4175-8a50-4f418dac5226"
      },
      "execution_count": 4,
      "outputs": [
        {
          "output_type": "stream",
          "name": "stdout",
          "text": [
            "Model: \"sequential\"\n",
            "_________________________________________________________________\n",
            " Layer (type)                Output Shape              Param #   \n",
            "=================================================================\n",
            " conv2d (Conv2D)             (None, 26, 26, 32)        320       \n",
            "                                                                 \n",
            " max_pooling2d (MaxPooling2D  (None, 13, 13, 32)       0         \n",
            " )                                                               \n",
            "                                                                 \n",
            " conv2d_1 (Conv2D)           (None, 11, 11, 64)        18496     \n",
            "                                                                 \n",
            " max_pooling2d_1 (MaxPooling  (None, 5, 5, 64)         0         \n",
            " 2D)                                                             \n",
            "                                                                 \n",
            " conv2d_2 (Conv2D)           (None, 3, 3, 64)          36928     \n",
            "                                                                 \n",
            " max_pooling2d_2 (MaxPooling  (None, 1, 1, 64)         0         \n",
            " 2D)                                                             \n",
            "                                                                 \n",
            " flatten (Flatten)           (None, 64)                0         \n",
            "                                                                 \n",
            " dense (Dense)               (None, 64)                4160      \n",
            "                                                                 \n",
            " dropout (Dropout)           (None, 64)                0         \n",
            "                                                                 \n",
            " dense_1 (Dense)             (None, 10)                650       \n",
            "                                                                 \n",
            "=================================================================\n",
            "Total params: 60,554\n",
            "Trainable params: 60,554\n",
            "Non-trainable params: 0\n",
            "_________________________________________________________________\n"
          ]
        }
      ]
    },
    {
      "cell_type": "code",
      "source": [
        "model.compile(optimizer='rmsprop',\n",
        "              loss='categorical_crossentropy',\n",
        "              metrics=['accuracy'])\n",
        "history = model.fit(X_test, y_test, epochs=40, batch_size=64, validation_split=0.2)"
      ],
      "metadata": {
        "colab": {
          "base_uri": "https://localhost:8080/"
        },
        "id": "DqSwc72v6MOQ",
        "outputId": "92e4f2d1-dae2-4de2-8d15-c639ad157db9"
      },
      "execution_count": 5,
      "outputs": [
        {
          "output_type": "stream",
          "name": "stdout",
          "text": [
            "Epoch 1/40\n",
            "125/125 [==============================] - 5s 11ms/step - loss: 1.2959 - accuracy: 0.5620 - val_loss: 0.4192 - val_accuracy: 0.8875\n",
            "Epoch 2/40\n",
            "125/125 [==============================] - 2s 16ms/step - loss: 0.5424 - accuracy: 0.8313 - val_loss: 0.2151 - val_accuracy: 0.9310\n",
            "Epoch 3/40\n",
            "125/125 [==============================] - 1s 9ms/step - loss: 0.3541 - accuracy: 0.8885 - val_loss: 0.1526 - val_accuracy: 0.9535\n",
            "Epoch 4/40\n",
            "125/125 [==============================] - 1s 9ms/step - loss: 0.2779 - accuracy: 0.9172 - val_loss: 0.1135 - val_accuracy: 0.9585\n",
            "Epoch 5/40\n",
            "125/125 [==============================] - 1s 7ms/step - loss: 0.2287 - accuracy: 0.9314 - val_loss: 0.0821 - val_accuracy: 0.9745\n",
            "Epoch 6/40\n",
            "125/125 [==============================] - 1s 10ms/step - loss: 0.1871 - accuracy: 0.9429 - val_loss: 0.1018 - val_accuracy: 0.9685\n",
            "Epoch 7/40\n",
            "125/125 [==============================] - 1s 8ms/step - loss: 0.1584 - accuracy: 0.9535 - val_loss: 0.1183 - val_accuracy: 0.9620\n",
            "Epoch 8/40\n",
            "125/125 [==============================] - 1s 8ms/step - loss: 0.1392 - accuracy: 0.9553 - val_loss: 0.0938 - val_accuracy: 0.9710\n",
            "Epoch 9/40\n",
            "125/125 [==============================] - 1s 10ms/step - loss: 0.1155 - accuracy: 0.9629 - val_loss: 0.0589 - val_accuracy: 0.9840\n",
            "Epoch 10/40\n",
            "125/125 [==============================] - 1s 8ms/step - loss: 0.1065 - accuracy: 0.9661 - val_loss: 0.0578 - val_accuracy: 0.9835\n",
            "Epoch 11/40\n",
            "125/125 [==============================] - 1s 8ms/step - loss: 0.0977 - accuracy: 0.9688 - val_loss: 0.0810 - val_accuracy: 0.9755\n",
            "Epoch 12/40\n",
            "125/125 [==============================] - 1s 8ms/step - loss: 0.0826 - accuracy: 0.9736 - val_loss: 0.0743 - val_accuracy: 0.9800\n",
            "Epoch 13/40\n",
            "125/125 [==============================] - 1s 10ms/step - loss: 0.0765 - accuracy: 0.9744 - val_loss: 0.0505 - val_accuracy: 0.9850\n",
            "Epoch 14/40\n",
            "125/125 [==============================] - 1s 11ms/step - loss: 0.0645 - accuracy: 0.9804 - val_loss: 0.0652 - val_accuracy: 0.9820\n",
            "Epoch 15/40\n",
            "125/125 [==============================] - 1s 8ms/step - loss: 0.0614 - accuracy: 0.9819 - val_loss: 0.0572 - val_accuracy: 0.9825\n",
            "Epoch 16/40\n",
            "125/125 [==============================] - 1s 6ms/step - loss: 0.0507 - accuracy: 0.9837 - val_loss: 0.0588 - val_accuracy: 0.9825\n",
            "Epoch 17/40\n",
            "125/125 [==============================] - 1s 5ms/step - loss: 0.0468 - accuracy: 0.9859 - val_loss: 0.0587 - val_accuracy: 0.9860\n",
            "Epoch 18/40\n",
            "125/125 [==============================] - 1s 5ms/step - loss: 0.0418 - accuracy: 0.9869 - val_loss: 0.0689 - val_accuracy: 0.9830\n",
            "Epoch 19/40\n",
            "125/125 [==============================] - 1s 5ms/step - loss: 0.0416 - accuracy: 0.9868 - val_loss: 0.0709 - val_accuracy: 0.9840\n",
            "Epoch 20/40\n",
            "125/125 [==============================] - 1s 5ms/step - loss: 0.0399 - accuracy: 0.9870 - val_loss: 0.0629 - val_accuracy: 0.9880\n",
            "Epoch 21/40\n",
            "125/125 [==============================] - 1s 5ms/step - loss: 0.0351 - accuracy: 0.9899 - val_loss: 0.0636 - val_accuracy: 0.9815\n",
            "Epoch 22/40\n",
            "125/125 [==============================] - 1s 6ms/step - loss: 0.0294 - accuracy: 0.9899 - val_loss: 0.0718 - val_accuracy: 0.9855\n",
            "Epoch 23/40\n",
            "125/125 [==============================] - 1s 5ms/step - loss: 0.0294 - accuracy: 0.9895 - val_loss: 0.0593 - val_accuracy: 0.9890\n",
            "Epoch 24/40\n",
            "125/125 [==============================] - 1s 5ms/step - loss: 0.0276 - accuracy: 0.9912 - val_loss: 0.0624 - val_accuracy: 0.9860\n",
            "Epoch 25/40\n",
            "125/125 [==============================] - 1s 5ms/step - loss: 0.0246 - accuracy: 0.9920 - val_loss: 0.0629 - val_accuracy: 0.9865\n",
            "Epoch 26/40\n",
            "125/125 [==============================] - 1s 5ms/step - loss: 0.0252 - accuracy: 0.9918 - val_loss: 0.0572 - val_accuracy: 0.9865\n",
            "Epoch 27/40\n",
            "125/125 [==============================] - 1s 5ms/step - loss: 0.0214 - accuracy: 0.9926 - val_loss: 0.0762 - val_accuracy: 0.9825\n",
            "Epoch 28/40\n",
            "125/125 [==============================] - 1s 5ms/step - loss: 0.0222 - accuracy: 0.9935 - val_loss: 0.0732 - val_accuracy: 0.9850\n",
            "Epoch 29/40\n",
            "125/125 [==============================] - 1s 6ms/step - loss: 0.0208 - accuracy: 0.9935 - val_loss: 0.0669 - val_accuracy: 0.9865\n",
            "Epoch 30/40\n",
            "125/125 [==============================] - 1s 7ms/step - loss: 0.0183 - accuracy: 0.9950 - val_loss: 0.0882 - val_accuracy: 0.9855\n",
            "Epoch 31/40\n",
            "125/125 [==============================] - 1s 6ms/step - loss: 0.0177 - accuracy: 0.9948 - val_loss: 0.0694 - val_accuracy: 0.9870\n",
            "Epoch 32/40\n",
            "125/125 [==============================] - 1s 5ms/step - loss: 0.0179 - accuracy: 0.9954 - val_loss: 0.0851 - val_accuracy: 0.9775\n",
            "Epoch 33/40\n",
            "125/125 [==============================] - 1s 5ms/step - loss: 0.0163 - accuracy: 0.9960 - val_loss: 0.0800 - val_accuracy: 0.9885\n",
            "Epoch 34/40\n",
            "125/125 [==============================] - 1s 5ms/step - loss: 0.0186 - accuracy: 0.9937 - val_loss: 0.0810 - val_accuracy: 0.9855\n",
            "Epoch 35/40\n",
            "125/125 [==============================] - 1s 5ms/step - loss: 0.0156 - accuracy: 0.9950 - val_loss: 0.0729 - val_accuracy: 0.9870\n",
            "Epoch 36/40\n",
            "125/125 [==============================] - 1s 5ms/step - loss: 0.0192 - accuracy: 0.9944 - val_loss: 0.0889 - val_accuracy: 0.9840\n",
            "Epoch 37/40\n",
            "125/125 [==============================] - 1s 5ms/step - loss: 0.0145 - accuracy: 0.9954 - val_loss: 0.0861 - val_accuracy: 0.9855\n",
            "Epoch 38/40\n",
            "125/125 [==============================] - 1s 5ms/step - loss: 0.0135 - accuracy: 0.9958 - val_loss: 0.0785 - val_accuracy: 0.9845\n",
            "Epoch 39/40\n",
            "125/125 [==============================] - 1s 5ms/step - loss: 0.0138 - accuracy: 0.9952 - val_loss: 0.1018 - val_accuracy: 0.9825\n",
            "Epoch 40/40\n",
            "125/125 [==============================] - 1s 5ms/step - loss: 0.0153 - accuracy: 0.9950 - val_loss: 0.0769 - val_accuracy: 0.9840\n"
          ]
        }
      ]
    },
    {
      "cell_type": "code",
      "source": [
        "acc = history.history['accuracy']\n",
        "val_acc = history.history['val_accuracy']\n",
        "loss = history.history['loss']\n",
        "val_loss = history.history['val_loss']\n",
        "\n",
        "epochs = range(len(acc))\n",
        "\n",
        "plt.plot(epochs, acc, label='Training acc')\n",
        "plt.plot(epochs, val_acc, label='Validation acc')\n",
        "plt.title('Training and validation accuracy')\n",
        "plt.legend()\n",
        "\n",
        "plt.figure()\n",
        "\n",
        "plt.plot(epochs, loss, 'bo', label='Training loss')\n",
        "plt.plot(epochs, val_loss, 'b', label='Validation loss')\n",
        "plt.title('Training and validation loss')\n",
        "plt.legend()\n",
        "\n",
        "plt.show()"
      ],
      "metadata": {
        "colab": {
          "base_uri": "https://localhost:8080/",
          "height": 545
        },
        "id": "gnZHsavh9eIT",
        "outputId": "b8fd0152-01ac-4a86-b7b6-5b6ac13163b3"
      },
      "execution_count": 8,
      "outputs": [
        {
          "output_type": "display_data",
          "data": {
            "text/plain": [
              "<Figure size 432x288 with 1 Axes>"
            ],
            "image/png": "[encoded data removed]"
          },
          "metadata": {
            "needs_background": "light"
          }
        },
        {
          "output_type": "display_data",
          "data": {
            "text/plain": [
              "<Figure size 432x288 with 1 Axes>"
            ],
            "image/png": "[encoded data removed]"
          },
          "metadata": {
            "needs_background": "light"
          }
        }
      ]
    },
    {
      "cell_type": "code",
      "source": [
        "model.evaluate(X_test,y_test)"
      ],
      "metadata": {
        "colab": {
          "base_uri": "https://localhost:8080/"
        },
        "id": "JcCAAsbu-NM7",
        "outputId": "0c6963f4-4bd2-4dd2-9dd5-51d031e8f97a"
      },
      "execution_count": 10,
      "outputs": [
        {
          "output_type": "stream",
          "name": "stdout",
          "text": [
            "313/313 [==============================] - 1s 3ms/step - loss: 0.0163 - accuracy: 0.9964\n"
          ]
        },
        {
          "output_type": "execute_result",
          "data": {
            "text/plain": [
              "[0.016299379989504814, 0.996399998664856]"
            ]
          },
          "metadata": {},
          "execution_count": 10
        }
      ]
    },
    {
      "cell_type": "code",
      "source": [],
      "metadata": {
        "id": "eXMAY8BSOjtl"
      },
      "execution_count": null,
      "outputs": []
    }
  ]
}